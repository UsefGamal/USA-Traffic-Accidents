{
 "cells": [
  {
   "cell_type": "markdown",
   "id": "6be30ddc-5c93-4076-ab51-4105f9dd1eca",
   "metadata": {},
   "source": [
    "# US Accidents Exploratory Data Analysis"
   ]
  },
  {
   "cell_type": "markdown",
   "id": "c356293c-eb59-4d4c-89c3-2e155e8a4698",
   "metadata": {},
   "source": [
    "## Data Understanding "
   ]
  },
  {
   "cell_type": "code",
   "execution_count": null,
   "id": "79005fe7-6e16-4367-9ee5-6d9d4bd91a4c",
   "metadata": {},
   "outputs": [],
   "source": []
  },
  {
   "cell_type": "code",
   "execution_count": null,
   "id": "6fd27f08-d6cf-464c-a2ec-e9bff2ee602e",
   "metadata": {},
   "outputs": [],
   "source": []
  },
  {
   "cell_type": "markdown",
   "id": "4db3be62-aa7a-4f0c-8294-5400d74fe1df",
   "metadata": {},
   "source": [
    "## Loading Data And Libraries"
   ]
  },
  {
   "cell_type": "code",
   "execution_count": null,
   "id": "2cd0d8b0-2418-4358-a7ea-daad2bf21a22",
   "metadata": {},
   "outputs": [],
   "source": []
  },
  {
   "cell_type": "code",
   "execution_count": null,
   "id": "46dcd299-fb72-481b-8a6d-c0a46851303d",
   "metadata": {},
   "outputs": [],
   "source": []
  },
  {
   "cell_type": "markdown",
   "id": "c9ccbfbf-1ab6-4a50-868e-453ebe95a4e1",
   "metadata": {},
   "source": [
    "## Data Cleaning "
   ]
  },
  {
   "cell_type": "code",
   "execution_count": null,
   "id": "4f66753e-65ff-469d-82a8-c4e5d4d61439",
   "metadata": {},
   "outputs": [],
   "source": []
  },
  {
   "cell_type": "code",
   "execution_count": null,
   "id": "9cce9978-38af-41f2-a15c-2ac26373885e",
   "metadata": {},
   "outputs": [],
   "source": []
  },
  {
   "cell_type": "markdown",
   "id": "201eab07-5f13-49ab-8595-6986c78493c0",
   "metadata": {},
   "source": [
    "## Exploratory Data Analysis"
   ]
  },
  {
   "cell_type": "code",
   "execution_count": null,
   "id": "73c2008b-2e11-44b2-a6dc-ca01fa7ea9cb",
   "metadata": {},
   "outputs": [],
   "source": []
  },
  {
   "cell_type": "code",
   "execution_count": null,
   "id": "cfd62e9e-43e7-4bd8-b76f-d2f05eecec83",
   "metadata": {},
   "outputs": [],
   "source": []
  },
  {
   "cell_type": "markdown",
   "id": "dd219593-ec8e-4ddf-be99-a7e11f7f63c8",
   "metadata": {},
   "source": [
    "## Asking Questions"
   ]
  },
  {
   "cell_type": "code",
   "execution_count": null,
   "id": "8be8aa32-cbe4-4f4c-9c82-4e425d1deb6e",
   "metadata": {},
   "outputs": [],
   "source": []
  },
  {
   "cell_type": "code",
   "execution_count": null,
   "id": "e349907c-b258-4f4e-971f-2ce4ed1fab69",
   "metadata": {},
   "outputs": [],
   "source": []
  },
  {
   "cell_type": "markdown",
   "id": "58772d25-1c00-47cd-bd6f-823b9562049d",
   "metadata": {},
   "source": [
    "## Conclusions"
   ]
  },
  {
   "cell_type": "code",
   "execution_count": null,
   "id": "59b585c9-c290-48dd-98e3-a8e30e8f7567",
   "metadata": {},
   "outputs": [],
   "source": []
  },
  {
   "cell_type": "code",
   "execution_count": null,
   "id": "b0531032-ce8d-4c09-9442-98e115d7a85b",
   "metadata": {},
   "outputs": [],
   "source": []
  }
 ],
 "metadata": {
  "kernelspec": {
   "display_name": "Python 3 (ipykernel)",
   "language": "python",
   "name": "python3"
  },
  "language_info": {
   "codemirror_mode": {
    "name": "ipython",
    "version": 3
   },
   "file_extension": ".py",
   "mimetype": "text/x-python",
   "name": "python",
   "nbconvert_exporter": "python",
   "pygments_lexer": "ipython3",
   "version": "3.10.9"
  }
 },
 "nbformat": 4,
 "nbformat_minor": 5
}
